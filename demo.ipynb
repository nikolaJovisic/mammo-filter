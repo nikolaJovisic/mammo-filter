{
 "cells": [
  {
   "cell_type": "code",
   "execution_count": 1,
   "id": "7f6f1e4d",
   "metadata": {},
   "outputs": [
    {
     "name": "stdout",
     "output_type": "stream",
     "text": [
      "The history saving thread hit an unexpected error (DatabaseError('database disk image is malformed')).History will not be written to the database.\n"
     ]
    }
   ],
   "source": [
    "from datasets_shim import *\n",
    "from itertools import islice"
   ]
  },
  {
   "cell_type": "code",
   "execution_count": 2,
   "id": "62646074",
   "metadata": {},
   "outputs": [
    {
     "name": "stdout",
     "output_type": "stream",
     "text": [
      "/home/nikola.jovisic.ivi/nj/lustre_mock/vindr/embeddings.hdf5 -> pos: 226, neg: 13406\n",
      "/home/nikola.jovisic.ivi/nj/lustre_mock/vindr/embeddings.hdf5 -> raw label counts: {1: 13406, 2: 4676, 5: 226, 3: 930, 4: 762}\n",
      "Total -> pos: 226, neg: 13406\n",
      "Total -> raw label counts: {1: 13406, 2: 4676, 5: 226, 3: 930, 4: 762}\n",
      "Train split: 4771 samples (Pos: 79, Neg: 4692)\n",
      "Validation split: 1022 samples (Pos: 17, Neg: 1005)\n",
      "Test split: 1023 samples (Pos: 17, Neg: 1006)\n"
     ]
    },
    {
     "name": "stderr",
     "output_type": "stream",
     "text": [
      "/home/nikola.jovisic.ivi/.local/lib/python3.10/site-packages/_distutils_hack/__init__.py:53: UserWarning: Reliance on distutils from stdlib is deprecated. Users must rely on setuptools to provide the distutils module. Avoid importing distutils or import setuptools first, and avoid setting SETUPTOOLS_USE_DISTUTILS=stdlib. Register concerns at https://github.com/pypa/setuptools/issues/new?template=distutils-deprecation.yml\n",
      "  warnings.warn(\n"
     ]
    },
    {
     "name": "stdout",
     "output_type": "stream",
     "text": [
      "0.0\n",
      "1.0\n"
     ]
    }
   ],
   "source": [
    "def get_path(dataset):\n",
    "    return f'/home/nikola.jovisic.ivi/nj/lustre_mock/{dataset}/embeddings.hdf5'\n",
    "\n",
    "dataset_config = {\n",
    "#     get_path('embed'): {'pos': [5, 4], 'neg': [1]},\n",
    "    get_path('vindr'): {'pos': [5], 'neg': [1]},\n",
    "#     get_path('csaw'): {'pos': [1], 'neg': [0]},\n",
    "#     get_path('rsna'): {'pos': [2, 3], 'neg': [0]},\n",
    "}\n",
    "\n",
    "specificity, sensitivity = train_head(dataset_config)\n",
    "\n",
    "print(specificity)\n",
    "print(sensitivity)"
   ]
  },
  {
   "cell_type": "code",
   "execution_count": 3,
   "id": "7bb2c87b",
   "metadata": {},
   "outputs": [
    {
     "ename": "NameError",
     "evalue": "name 'dataset' is not defined",
     "output_type": "error",
     "traceback": [
      "\u001b[0;31m---------------------------------------------------------------------------\u001b[0m",
      "\u001b[0;31mNameError\u001b[0m                                 Traceback (most recent call last)",
      "Cell \u001b[0;32mIn[3], line 1\u001b[0m\n\u001b[0;32m----> 1\u001b[0m \u001b[38;5;28;01mfor\u001b[39;00m i \u001b[38;5;129;01min\u001b[39;00m islice(\u001b[43mdataset\u001b[49m, \u001b[38;5;241m10\u001b[39m):\n\u001b[1;32m      2\u001b[0m     \u001b[38;5;28;01mfor\u001b[39;00m j \u001b[38;5;129;01min\u001b[39;00m i:\n\u001b[1;32m      3\u001b[0m         \u001b[38;5;28mprint\u001b[39m(j\u001b[38;5;241m.\u001b[39mshape)\n",
      "\u001b[0;31mNameError\u001b[0m: name 'dataset' is not defined"
     ]
    }
   ],
   "source": [
    "for i in islice(dataset, 10):\n",
    "    for j in i:\n",
    "        print(j.shape)"
   ]
  }
 ],
 "metadata": {
  "kernelspec": {
   "display_name": "Python 3 (ipykernel)",
   "language": "python",
   "name": "python3"
  },
  "language_info": {
   "codemirror_mode": {
    "name": "ipython",
    "version": 3
   },
   "file_extension": ".py",
   "mimetype": "text/x-python",
   "name": "python",
   "nbconvert_exporter": "python",
   "pygments_lexer": "ipython3",
   "version": "3.10.12"
  }
 },
 "nbformat": 4,
 "nbformat_minor": 5
}
