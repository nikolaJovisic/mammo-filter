{
 "cells": [
  {
   "cell_type": "code",
   "execution_count": 1,
   "id": "b5f6c14b",
   "metadata": {},
   "outputs": [
    {
     "name": "stdout",
     "output_type": "stream",
     "text": [
      "The history saving thread hit an unexpected error (DatabaseError('database disk image is malformed')).History will not be written to the database.\n"
     ]
    },
    {
     "name": "stderr",
     "output_type": "stream",
     "text": [
      "/home/nikola.jovisic.ivi/.local/lib/python3.10/site-packages/_distutils_hack/__init__.py:53: UserWarning: Reliance on distutils from stdlib is deprecated. Users must rely on setuptools to provide the distutils module. Avoid importing distutils or import setuptools first, and avoid setting SETUPTOOLS_USE_DISTUTILS=stdlib. Register concerns at https://github.com/pypa/setuptools/issues/new?template=distutils-deprecation.yml\n",
      "  warnings.warn(\n",
      "/home/nikola.jovisic.ivi/nj/mammo-filter/model/layers/swiglu_ffn.py:43: UserWarning: xFormers is available (SwiGLU)\n",
      "  warnings.warn(\"xFormers is available (SwiGLU)\")\n",
      "/home/nikola.jovisic.ivi/nj/mammo-filter/model/layers/attention.py:27: UserWarning: xFormers is available (Attention)\n",
      "  warnings.warn(\"xFormers is available (Attention)\")\n",
      "/home/nikola.jovisic.ivi/nj/mammo-filter/model/layers/block.py:33: UserWarning: xFormers is available (Block)\n",
      "  warnings.warn(\"xFormers is available (Block)\")\n"
     ]
    }
   ],
   "source": [
    "from datasets_shim import *\n",
    "from batched_dataloader import get_batched_dataloader, BatchEnum\n",
    "from embedding_inference import EmbeddingInference"
   ]
  },
  {
   "cell_type": "code",
   "execution_count": 16,
   "id": "a3c57927",
   "metadata": {},
   "outputs": [
    {
     "name": "stdout",
     "output_type": "stream",
     "text": [
      "\n",
      "=== Run 1/20 ===\n",
      "464\n",
      "96\n",
      "92\n"
     ]
    },
    {
     "name": "stderr",
     "output_type": "stream",
     "text": [
      "/tmp/ipykernel_8176/1778411168.py:30: DeprecationWarning: Conversion of an array with ndim > 0 to a scalar is deprecated, and will error in future. Ensure you extract a single element from your array before performing this operation. (Deprecated NumPy 1.25.)\n",
      "  raw_label = int(group['label'][()])\n"
     ]
    },
    {
     "name": "stdout",
     "output_type": "stream",
     "text": [
      "\n",
      "=== Run 2/20 ===\n",
      "464\n",
      "96\n",
      "92\n"
     ]
    },
    {
     "name": "stderr",
     "output_type": "stream",
     "text": [
      "/tmp/ipykernel_8176/1778411168.py:30: DeprecationWarning: Conversion of an array with ndim > 0 to a scalar is deprecated, and will error in future. Ensure you extract a single element from your array before performing this operation. (Deprecated NumPy 1.25.)\n",
      "  raw_label = int(group['label'][()])\n"
     ]
    },
    {
     "name": "stdout",
     "output_type": "stream",
     "text": [
      "\n",
      "=== Run 3/20 ===\n",
      "464\n",
      "96\n",
      "92\n"
     ]
    },
    {
     "name": "stderr",
     "output_type": "stream",
     "text": [
      "/tmp/ipykernel_8176/1778411168.py:30: DeprecationWarning: Conversion of an array with ndim > 0 to a scalar is deprecated, and will error in future. Ensure you extract a single element from your array before performing this operation. (Deprecated NumPy 1.25.)\n",
      "  raw_label = int(group['label'][()])\n"
     ]
    },
    {
     "name": "stdout",
     "output_type": "stream",
     "text": [
      "\n",
      "=== Run 4/20 ===\n",
      "464\n",
      "96\n",
      "92\n"
     ]
    },
    {
     "name": "stderr",
     "output_type": "stream",
     "text": [
      "/tmp/ipykernel_8176/1778411168.py:30: DeprecationWarning: Conversion of an array with ndim > 0 to a scalar is deprecated, and will error in future. Ensure you extract a single element from your array before performing this operation. (Deprecated NumPy 1.25.)\n",
      "  raw_label = int(group['label'][()])\n"
     ]
    },
    {
     "name": "stdout",
     "output_type": "stream",
     "text": [
      "\n",
      "=== Run 5/20 ===\n",
      "464\n",
      "96\n",
      "92\n"
     ]
    },
    {
     "name": "stderr",
     "output_type": "stream",
     "text": [
      "/tmp/ipykernel_8176/1778411168.py:30: DeprecationWarning: Conversion of an array with ndim > 0 to a scalar is deprecated, and will error in future. Ensure you extract a single element from your array before performing this operation. (Deprecated NumPy 1.25.)\n",
      "  raw_label = int(group['label'][()])\n"
     ]
    },
    {
     "name": "stdout",
     "output_type": "stream",
     "text": [
      "\n",
      "=== Run 6/20 ===\n",
      "464\n",
      "96\n",
      "92\n"
     ]
    },
    {
     "name": "stderr",
     "output_type": "stream",
     "text": [
      "/tmp/ipykernel_8176/1778411168.py:30: DeprecationWarning: Conversion of an array with ndim > 0 to a scalar is deprecated, and will error in future. Ensure you extract a single element from your array before performing this operation. (Deprecated NumPy 1.25.)\n",
      "  raw_label = int(group['label'][()])\n"
     ]
    },
    {
     "name": "stdout",
     "output_type": "stream",
     "text": [
      "\n",
      "=== Run 7/20 ===\n",
      "464\n",
      "96\n",
      "92\n"
     ]
    },
    {
     "name": "stderr",
     "output_type": "stream",
     "text": [
      "/tmp/ipykernel_8176/1778411168.py:30: DeprecationWarning: Conversion of an array with ndim > 0 to a scalar is deprecated, and will error in future. Ensure you extract a single element from your array before performing this operation. (Deprecated NumPy 1.25.)\n",
      "  raw_label = int(group['label'][()])\n"
     ]
    },
    {
     "name": "stdout",
     "output_type": "stream",
     "text": [
      "\n",
      "=== Run 8/20 ===\n",
      "464\n",
      "96\n",
      "92\n"
     ]
    },
    {
     "name": "stderr",
     "output_type": "stream",
     "text": [
      "/tmp/ipykernel_8176/1778411168.py:30: DeprecationWarning: Conversion of an array with ndim > 0 to a scalar is deprecated, and will error in future. Ensure you extract a single element from your array before performing this operation. (Deprecated NumPy 1.25.)\n",
      "  raw_label = int(group['label'][()])\n"
     ]
    },
    {
     "name": "stdout",
     "output_type": "stream",
     "text": [
      "\n",
      "=== Run 9/20 ===\n",
      "464\n",
      "96\n",
      "92\n"
     ]
    },
    {
     "name": "stderr",
     "output_type": "stream",
     "text": [
      "/tmp/ipykernel_8176/1778411168.py:30: DeprecationWarning: Conversion of an array with ndim > 0 to a scalar is deprecated, and will error in future. Ensure you extract a single element from your array before performing this operation. (Deprecated NumPy 1.25.)\n",
      "  raw_label = int(group['label'][()])\n"
     ]
    },
    {
     "name": "stdout",
     "output_type": "stream",
     "text": [
      "\n",
      "=== Run 10/20 ===\n",
      "464\n",
      "96\n",
      "92\n"
     ]
    },
    {
     "name": "stderr",
     "output_type": "stream",
     "text": [
      "/tmp/ipykernel_8176/1778411168.py:30: DeprecationWarning: Conversion of an array with ndim > 0 to a scalar is deprecated, and will error in future. Ensure you extract a single element from your array before performing this operation. (Deprecated NumPy 1.25.)\n",
      "  raw_label = int(group['label'][()])\n"
     ]
    },
    {
     "name": "stdout",
     "output_type": "stream",
     "text": [
      "\n",
      "=== Run 11/20 ===\n",
      "464\n",
      "96\n",
      "92\n"
     ]
    },
    {
     "name": "stderr",
     "output_type": "stream",
     "text": [
      "/tmp/ipykernel_8176/1778411168.py:30: DeprecationWarning: Conversion of an array with ndim > 0 to a scalar is deprecated, and will error in future. Ensure you extract a single element from your array before performing this operation. (Deprecated NumPy 1.25.)\n",
      "  raw_label = int(group['label'][()])\n"
     ]
    },
    {
     "name": "stdout",
     "output_type": "stream",
     "text": [
      "\n",
      "=== Run 12/20 ===\n",
      "464\n",
      "96\n",
      "92\n"
     ]
    },
    {
     "name": "stderr",
     "output_type": "stream",
     "text": [
      "/tmp/ipykernel_8176/1778411168.py:30: DeprecationWarning: Conversion of an array with ndim > 0 to a scalar is deprecated, and will error in future. Ensure you extract a single element from your array before performing this operation. (Deprecated NumPy 1.25.)\n",
      "  raw_label = int(group['label'][()])\n"
     ]
    },
    {
     "name": "stdout",
     "output_type": "stream",
     "text": [
      "\n",
      "=== Run 13/20 ===\n",
      "464\n",
      "96\n",
      "92\n"
     ]
    },
    {
     "name": "stderr",
     "output_type": "stream",
     "text": [
      "/tmp/ipykernel_8176/1778411168.py:30: DeprecationWarning: Conversion of an array with ndim > 0 to a scalar is deprecated, and will error in future. Ensure you extract a single element from your array before performing this operation. (Deprecated NumPy 1.25.)\n",
      "  raw_label = int(group['label'][()])\n"
     ]
    },
    {
     "name": "stdout",
     "output_type": "stream",
     "text": [
      "\n",
      "=== Run 14/20 ===\n",
      "464\n",
      "96\n",
      "92\n"
     ]
    },
    {
     "name": "stderr",
     "output_type": "stream",
     "text": [
      "/tmp/ipykernel_8176/1778411168.py:30: DeprecationWarning: Conversion of an array with ndim > 0 to a scalar is deprecated, and will error in future. Ensure you extract a single element from your array before performing this operation. (Deprecated NumPy 1.25.)\n",
      "  raw_label = int(group['label'][()])\n"
     ]
    },
    {
     "name": "stdout",
     "output_type": "stream",
     "text": [
      "\n",
      "=== Run 15/20 ===\n",
      "464\n",
      "96\n",
      "92\n"
     ]
    },
    {
     "name": "stderr",
     "output_type": "stream",
     "text": [
      "/tmp/ipykernel_8176/1778411168.py:30: DeprecationWarning: Conversion of an array with ndim > 0 to a scalar is deprecated, and will error in future. Ensure you extract a single element from your array before performing this operation. (Deprecated NumPy 1.25.)\n",
      "  raw_label = int(group['label'][()])\n"
     ]
    },
    {
     "name": "stdout",
     "output_type": "stream",
     "text": [
      "\n",
      "=== Run 16/20 ===\n",
      "464\n",
      "96\n",
      "92\n"
     ]
    },
    {
     "name": "stderr",
     "output_type": "stream",
     "text": [
      "/tmp/ipykernel_8176/1778411168.py:30: DeprecationWarning: Conversion of an array with ndim > 0 to a scalar is deprecated, and will error in future. Ensure you extract a single element from your array before performing this operation. (Deprecated NumPy 1.25.)\n",
      "  raw_label = int(group['label'][()])\n"
     ]
    },
    {
     "name": "stdout",
     "output_type": "stream",
     "text": [
      "\n",
      "=== Run 17/20 ===\n",
      "464\n",
      "96\n",
      "92\n"
     ]
    },
    {
     "name": "stderr",
     "output_type": "stream",
     "text": [
      "/tmp/ipykernel_8176/1778411168.py:30: DeprecationWarning: Conversion of an array with ndim > 0 to a scalar is deprecated, and will error in future. Ensure you extract a single element from your array before performing this operation. (Deprecated NumPy 1.25.)\n",
      "  raw_label = int(group['label'][()])\n"
     ]
    },
    {
     "name": "stdout",
     "output_type": "stream",
     "text": [
      "\n",
      "=== Run 18/20 ===\n",
      "464\n",
      "96\n",
      "92\n"
     ]
    },
    {
     "name": "stderr",
     "output_type": "stream",
     "text": [
      "/tmp/ipykernel_8176/1778411168.py:30: DeprecationWarning: Conversion of an array with ndim > 0 to a scalar is deprecated, and will error in future. Ensure you extract a single element from your array before performing this operation. (Deprecated NumPy 1.25.)\n",
      "  raw_label = int(group['label'][()])\n"
     ]
    },
    {
     "name": "stdout",
     "output_type": "stream",
     "text": [
      "\n",
      "=== Run 19/20 ===\n",
      "464\n",
      "96\n",
      "92\n"
     ]
    },
    {
     "name": "stderr",
     "output_type": "stream",
     "text": [
      "/tmp/ipykernel_8176/1778411168.py:30: DeprecationWarning: Conversion of an array with ndim > 0 to a scalar is deprecated, and will error in future. Ensure you extract a single element from your array before performing this operation. (Deprecated NumPy 1.25.)\n",
      "  raw_label = int(group['label'][()])\n"
     ]
    },
    {
     "name": "stdout",
     "output_type": "stream",
     "text": [
      "\n",
      "=== Run 20/20 ===\n",
      "464\n",
      "96\n",
      "92\n"
     ]
    },
    {
     "name": "stderr",
     "output_type": "stream",
     "text": [
      "/tmp/ipykernel_8176/1778411168.py:30: DeprecationWarning: Conversion of an array with ndim > 0 to a scalar is deprecated, and will error in future. Ensure you extract a single element from your array before performing this operation. (Deprecated NumPy 1.25.)\n",
      "  raw_label = int(group['label'][()])\n"
     ]
    },
    {
     "name": "stdout",
     "output_type": "stream",
     "text": [
      "\n",
      "Mean of balanced confusion matrix diagonal over 20 runs:\n",
      "[0.5635 0.572 ]\n",
      "\n",
      "Standard deviation of balanced confusion matrix diagonal over 20 runs:\n",
      "[0.0279 0.0657]\n"
     ]
    }
   ],
   "source": [
    "import torch\n",
    "import torch.nn as nn\n",
    "import torch.optim as optim\n",
    "import h5py\n",
    "import numpy as np\n",
    "from torch.utils.data import Dataset, DataLoader\n",
    "from collections import defaultdict\n",
    "from sklearn.metrics import (\n",
    "    accuracy_score, balanced_accuracy_score, precision_score,\n",
    "    recall_score, f1_score, roc_auc_score, confusion_matrix\n",
    ")\n",
    "from sklearn.metrics import classification_report\n",
    "\n",
    "#############\n",
    "\n",
    "# UPOREDI DA LI BOLJE RADI KAD SE TRENIRA NA SVAKOJ SLICI POSEBNO, PA RADI MAXPOOLING, ILI KAD SE TRENIRA SA MAXPOOLINGOM KROZ SLIKE -> INICIJALNI DOKAZ DA TREBA RADITI MIL\n",
    "\n",
    "############\n",
    "\n",
    "\n",
    "\n",
    "\n",
    "def evaluate_metrics(model, loader, split):\n",
    "    model.eval()\n",
    "    all_logits = []\n",
    "    all_labels = []\n",
    "    with torch.no_grad():\n",
    "        for x, y, _ in loader:\n",
    "            x, y = x.to('cuda'), y.to('cuda')\n",
    "            logits = model(x)\n",
    "            all_logits.append(logits.cpu())\n",
    "            all_labels.append(y.cpu())\n",
    "\n",
    "    logits = torch.cat(all_logits).squeeze(1)\n",
    "    labels = torch.cat(all_labels).squeeze(1)\n",
    "\n",
    "    probs = torch.sigmoid(logits).numpy()\n",
    "    preds = (probs > 0.5).astype(int)\n",
    "    targets = labels.numpy().astype(int)\n",
    "\n",
    "    cm = confusion_matrix(targets, preds)\n",
    "    row_sums = cm.sum(axis=1, keepdims=True)\n",
    "    balanced_cm = cm / row_sums\n",
    "\n",
    "#     print(f'\\n{split} Confusion Matrices:')\n",
    "#     print(f'  Regular Confusion Matrix:\\n{cm}')\n",
    "#     print(f'  Balanced Confusion Matrix (rows sum to 1):\\n{balanced_cm.round(4)}')\n",
    "\n",
    "    return np.diag(balanced_cm)\n",
    "\n",
    "\n",
    "def linear_probe(train_path, valid_path, test_path, epochs=100, batch_size=64, lr=1e-3, patience=5):\n",
    "    train_dataset = EmbeddingsDataset(train_path)\n",
    "    valid_dataset = EmbeddingsDataset(valid_path)\n",
    "    test_dataset = EmbeddingsDataset(test_path)\n",
    "\n",
    "    train_loader = DataLoader(train_dataset, batch_size=batch_size, shuffle=True)\n",
    "    valid_loader = DataLoader(valid_dataset, batch_size=batch_size)\n",
    "    test_loader = DataLoader(test_dataset, batch_size=batch_size)\n",
    "\n",
    "    model = nn.Linear(768, 1).to('cuda')\n",
    "    optimizer = optim.Adam(model.parameters(), lr=lr, weight_decay=1e-4)\n",
    "    criterion = nn.BCEWithLogitsLoss(reduction='none')\n",
    "\n",
    "    best_val_loss = float('inf')\n",
    "    patience_counter = 0\n",
    "\n",
    "    for epoch in range(epochs):\n",
    "        model.train()\n",
    "        total_loss = 0\n",
    "        for x, y, w in train_loader:\n",
    "            x, y, w = x.to('cuda'), y.to('cuda'), w.to('cuda')\n",
    "            logits = model(x)\n",
    "            loss = criterion(logits, y)\n",
    "            loss = (loss * w).mean()\n",
    "\n",
    "            optimizer.zero_grad()\n",
    "            loss.backward()\n",
    "            optimizer.step()\n",
    "            total_loss += loss.item()\n",
    "\n",
    "        avg_train_loss = total_loss / len(train_loader)\n",
    "\n",
    "        model.eval()\n",
    "        val_loss = 0\n",
    "        with torch.no_grad():\n",
    "            for x, y, w in valid_loader:\n",
    "                x, y, w = x.to('cuda'), y.to('cuda'), w.to('cuda')\n",
    "                logits = model(x)\n",
    "                loss = criterion(logits, y)\n",
    "                loss = (loss * w).mean()\n",
    "                val_loss += loss.item()\n",
    "        avg_val_loss = val_loss / len(valid_loader)\n",
    "\n",
    "        #print(f'Epoch {epoch+1}: Train Loss = {avg_train_loss:.4f}, Val Loss = {avg_val_loss:.4f}')\n",
    "\n",
    "        if avg_val_loss < best_val_loss:\n",
    "            best_val_loss = avg_val_loss\n",
    "            best_model_state = model.state_dict()\n",
    "            patience_counter = 0\n",
    "        else:\n",
    "            patience_counter += 1\n",
    "            if patience_counter >= patience:\n",
    "                print(f'\\nEarly stopping triggered after {epoch+1} epochs.')\n",
    "                break\n",
    "\n",
    "    model.load_state_dict(best_model_state)\n",
    "    evaluate_metrics(model, valid_loader, 'Validation')\n",
    "    test_diag = evaluate_metrics(model, test_loader, 'Test')\n",
    "\n",
    "    return test_diag\n",
    "\n",
    "diags = []\n",
    "for i in range(20):\n",
    "    print(f'\\n=== Run {i+1}/20 ===')\n",
    "    diag = linear_probe(\n",
    "        '../lustre_mock/vindr-simple-train/embeddings.hdf5',\n",
    "        '../lustre_mock/vindr-simple-test/embeddings.hdf5',\n",
    "        '../lustre_mock/vindr-simple-valid/embeddings.hdf5'\n",
    "    )\n",
    "    diags.append(diag)\n",
    "\n",
    "diags = np.stack(diags)\n",
    "mean_diag = diags.mean(axis=0)\n",
    "std_diag = diags.std(axis=0)\n",
    "\n",
    "print('\\nMean of balanced confusion matrix diagonal over 20 runs:')\n",
    "print(mean_diag.round(4))\n",
    "\n",
    "print('\\nStandard deviation of balanced confusion matrix diagonal over 20 runs:')\n",
    "print(std_diag.round(4))\n",
    "\n"
   ]
  }
 ],
 "metadata": {
  "kernelspec": {
   "display_name": "Python 3 (ipykernel)",
   "language": "python",
   "name": "python3"
  },
  "language_info": {
   "codemirror_mode": {
    "name": "ipython",
    "version": 3
   },
   "file_extension": ".py",
   "mimetype": "text/x-python",
   "name": "python",
   "nbconvert_exporter": "python",
   "pygments_lexer": "ipython3",
   "version": "3.10.12"
  }
 },
 "nbformat": 4,
 "nbformat_minor": 5
}
