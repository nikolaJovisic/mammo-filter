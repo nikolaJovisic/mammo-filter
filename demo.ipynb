{
 "cells": [
  {
   "cell_type": "code",
   "execution_count": 1,
   "id": "6ee4f038",
   "metadata": {},
   "outputs": [
    {
     "name": "stdout",
     "output_type": "stream",
     "text": [
      "The history saving thread hit an unexpected error (DatabaseError('database disk image is malformed')).History will not be written to the database.\n"
     ]
    },
    {
     "name": "stderr",
     "output_type": "stream",
     "text": [
      "/home/nikola.jovisic.ivi/.local/lib/python3.10/site-packages/_distutils_hack/__init__.py:53: UserWarning: Reliance on distutils from stdlib is deprecated. Users must rely on setuptools to provide the distutils module. Avoid importing distutils or import setuptools first, and avoid setting SETUPTOOLS_USE_DISTUTILS=stdlib. Register concerns at https://github.com/pypa/setuptools/issues/new?template=distutils-deprecation.yml\n",
      "  warnings.warn(\n",
      "/home/nikola.jovisic.ivi/nj/mammo-filter/model/layers/swiglu_ffn.py:43: UserWarning: xFormers is available (SwiGLU)\n",
      "  warnings.warn(\"xFormers is available (SwiGLU)\")\n",
      "/home/nikola.jovisic.ivi/nj/mammo-filter/model/layers/attention.py:27: UserWarning: xFormers is available (Attention)\n",
      "  warnings.warn(\"xFormers is available (Attention)\")\n",
      "/home/nikola.jovisic.ivi/nj/mammo-filter/model/layers/block.py:33: UserWarning: xFormers is available (Block)\n",
      "  warnings.warn(\"xFormers is available (Block)\")\n"
     ]
    }
   ],
   "source": [
    "from datasets_shim import *\n",
    "from embedding_inference import EmbeddingInference"
   ]
  },
  {
   "cell_type": "code",
   "execution_count": 2,
   "id": "d8937e6e",
   "metadata": {},
   "outputs": [
    {
     "ename": "NameError",
     "evalue": "name 'cfg' is not defined",
     "output_type": "error",
     "traceback": [
      "\u001b[0;31m---------------------------------------------------------------------------\u001b[0m",
      "\u001b[0;31mNameError\u001b[0m                                 Traceback (most recent call last)",
      "Cell \u001b[0;32mIn[2], line 1\u001b[0m\n\u001b[0;32m----> 1\u001b[0m dataset \u001b[38;5;241m=\u001b[39m MammoDataset(DatasetEnum\u001b[38;5;241m.\u001b[39mRSNA, Split\u001b[38;5;241m.\u001b[39mALL, ReturnMode\u001b[38;5;241m.\u001b[39mIMAGE_LABEL, ConvertTo\u001b[38;5;241m.\u001b[39mRGB_TENSOR_IMGNET_NORM, resize\u001b[38;5;241m=\u001b[39m\u001b[43mcfg\u001b[49m\u001b[38;5;241m.\u001b[39mmodel\u001b[38;5;241m.\u001b[39mimg_size)[:\u001b[38;5;241m16\u001b[39m]\n\u001b[1;32m      2\u001b[0m embedding_inference \u001b[38;5;241m=\u001b[39m EmbeddingInference(dataset)\n",
      "\u001b[0;31mNameError\u001b[0m: name 'cfg' is not defined"
     ]
    }
   ],
   "source": [
    "dataset = MammoDataset(DatasetEnum.RSNA, Split.ALL, ReturnMode.IMAGE_LABEL, ConvertTo.RGB_TENSOR_IMGNET_NORM, resize=(518, 518))[:16]\n",
    "embedding_inference = EmbeddingInference(dataset)"
   ]
  },
  {
   "cell_type": "code",
   "execution_count": null,
   "id": "05fb5caf",
   "metadata": {},
   "outputs": [],
   "source": []
  },
  {
   "cell_type": "code",
   "execution_count": null,
   "id": "a7768f65",
   "metadata": {},
   "outputs": [],
   "source": []
  }
 ],
 "metadata": {
  "kernelspec": {
   "display_name": "Python 3 (ipykernel)",
   "language": "python",
   "name": "python3"
  },
  "language_info": {
   "codemirror_mode": {
    "name": "ipython",
    "version": 3
   },
   "file_extension": ".py",
   "mimetype": "text/x-python",
   "name": "python",
   "nbconvert_exporter": "python",
   "pygments_lexer": "ipython3",
   "version": "3.10.12"
  }
 },
 "nbformat": 4,
 "nbformat_minor": 5
}
