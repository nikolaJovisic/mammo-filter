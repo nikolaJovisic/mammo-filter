{
 "cells": [
  {
   "cell_type": "code",
   "execution_count": 1,
   "id": "5883da88",
   "metadata": {},
   "outputs": [
    {
     "name": "stdout",
     "output_type": "stream",
     "text": [
      "The history saving thread hit an unexpected error (DatabaseError('database disk image is malformed')).History will not be written to the database.\n"
     ]
    },
    {
     "name": "stderr",
     "output_type": "stream",
     "text": [
      "/home/nikola.jovisic.ivi/.local/lib/python3.10/site-packages/_distutils_hack/__init__.py:53: UserWarning: Reliance on distutils from stdlib is deprecated. Users must rely on setuptools to provide the distutils module. Avoid importing distutils or import setuptools first, and avoid setting SETUPTOOLS_USE_DISTUTILS=stdlib. Register concerns at https://github.com/pypa/setuptools/issues/new?template=distutils-deprecation.yml\n",
      "  warnings.warn(\n",
      "/home/nikola.jovisic.ivi/nj/mammo-filter/model/layers/swiglu_ffn.py:43: UserWarning: xFormers is available (SwiGLU)\n",
      "  warnings.warn(\"xFormers is available (SwiGLU)\")\n",
      "/home/nikola.jovisic.ivi/nj/mammo-filter/model/layers/attention.py:27: UserWarning: xFormers is available (Attention)\n",
      "  warnings.warn(\"xFormers is available (Attention)\")\n",
      "/home/nikola.jovisic.ivi/nj/mammo-filter/model/layers/block.py:33: UserWarning: xFormers is available (Block)\n",
      "  warnings.warn(\"xFormers is available (Block)\")\n"
     ]
    }
   ],
   "source": [
    "from datasets_shim import *\n",
    "from batched_dataloader import get_batched_dataloader, BatchEnum\n",
    "from embedding_inference import EmbeddingInference\n",
    "from embeddings_dataset import EmbeddingsDataset\n",
    "from train_head import train_head\n",
    "from itertools import islice\n",
    "from torch.utils.data import DataLoader"
   ]
  },
  {
   "cell_type": "code",
   "execution_count": 2,
   "id": "19536b6b",
   "metadata": {},
   "outputs": [
    {
     "name": "stdout",
     "output_type": "stream",
     "text": [
      "/home/nikola.jovisic.ivi/nj/lustre_mock/vindr/embeddings.hdf5 -> pos: 226, neg: 13406\n",
      "/home/nikola.jovisic.ivi/nj/lustre_mock/vindr/embeddings.hdf5 -> raw label counts: {1: 13406, 2: 4676, 5: 226, 3: 930, 4: 762}\n",
      "Total -> pos: 226, neg: 13406\n",
      "Total -> raw label counts: {1: 13406, 2: 4676, 5: 226, 3: 930, 4: 762}\n",
      "Train split: 4771 samples (Pos: 79, Neg: 4692)\n",
      "Validation split: 1022 samples (Pos: 17, Neg: 1005)\n",
      "Test split: 1023 samples (Pos: 17, Neg: 1006)\n",
      "\n",
      "=== Run 1/1 ===\n",
      "[[1273  739]\n",
      " [  11   23]]\n",
      "0.6327 of negatives labeled as negative.\n",
      "0.6765 of positives labeled as positive.\n"
     ]
    }
   ],
   "source": [
    "def get_path(dataset):\n",
    "    return f'/home/nikola.jovisic.ivi/nj/lustre_mock/{dataset}/embeddings.hdf5'\n",
    "\n",
    "dataset_config = {\n",
    "#     get_path('embed'): {'pos': [5, 4], 'neg': [1]},\n",
    "    get_path('vindr'): {'pos': [5], 'neg': [1]},\n",
    "#     get_path('csaw'): {'pos': [1], 'neg': [0]},\n",
    "#     get_path('rsna'): {'pos': [2, 3], 'neg': [0]},\n",
    "}\n",
    "\n",
    "#ovo sa birads 1 i birads 5 je vrv dobro za dokazivanje MIL-a po dojci\n",
    "\n",
    "dataset = EmbeddingsDataset(dataset_config, pos_weight=1.5)\n",
    "\n",
    "train_head(dataset, n_runs=1)"
   ]
  },
  {
   "cell_type": "code",
   "execution_count": 3,
   "id": "2a512d92",
   "metadata": {},
   "outputs": [
    {
     "name": "stdout",
     "output_type": "stream",
     "text": [
      "torch.Size([2, 768])\n",
      "torch.Size([1])\n",
      "torch.Size([1])\n",
      "torch.Size([3, 768])\n",
      "torch.Size([1])\n",
      "torch.Size([1])\n",
      "torch.Size([2, 768])\n",
      "torch.Size([1])\n",
      "torch.Size([1])\n",
      "torch.Size([2, 768])\n",
      "torch.Size([1])\n",
      "torch.Size([1])\n",
      "torch.Size([3, 768])\n",
      "torch.Size([1])\n",
      "torch.Size([1])\n",
      "torch.Size([2, 768])\n",
      "torch.Size([1])\n",
      "torch.Size([1])\n",
      "torch.Size([2, 768])\n",
      "torch.Size([1])\n",
      "torch.Size([1])\n",
      "torch.Size([2, 768])\n",
      "torch.Size([1])\n",
      "torch.Size([1])\n",
      "torch.Size([2, 768])\n",
      "torch.Size([1])\n",
      "torch.Size([1])\n",
      "torch.Size([2, 768])\n",
      "torch.Size([1])\n",
      "torch.Size([1])\n"
     ]
    }
   ],
   "source": [
    "for i in islice(dataset, 10):\n",
    "    for j in i:\n",
    "        print(j.shape)"
   ]
  }
 ],
 "metadata": {
  "kernelspec": {
   "display_name": "Python 3 (ipykernel)",
   "language": "python",
   "name": "python3"
  },
  "language_info": {
   "codemirror_mode": {
    "name": "ipython",
    "version": 3
   },
   "file_extension": ".py",
   "mimetype": "text/x-python",
   "name": "python",
   "nbconvert_exporter": "python",
   "pygments_lexer": "ipython3",
   "version": "3.10.12"
  }
 },
 "nbformat": 4,
 "nbformat_minor": 5
}
