{
 "cells": [
  {
   "cell_type": "code",
   "execution_count": 1,
   "id": "17613d32",
   "metadata": {},
   "outputs": [
    {
     "name": "stdout",
     "output_type": "stream",
     "text": [
      "The history saving thread hit an unexpected error (DatabaseError('database disk image is malformed')).History will not be written to the database.\n"
     ]
    },
    {
     "name": "stderr",
     "output_type": "stream",
     "text": [
      "/home/nikola.jovisic.ivi/.local/lib/python3.10/site-packages/_distutils_hack/__init__.py:53: UserWarning: Reliance on distutils from stdlib is deprecated. Users must rely on setuptools to provide the distutils module. Avoid importing distutils or import setuptools first, and avoid setting SETUPTOOLS_USE_DISTUTILS=stdlib. Register concerns at https://github.com/pypa/setuptools/issues/new?template=distutils-deprecation.yml\n",
      "  warnings.warn(\n",
      "/home/nikola.jovisic.ivi/nj/mammo-filter/experiments/../model/layers/swiglu_ffn.py:43: UserWarning: xFormers is available (SwiGLU)\n",
      "  warnings.warn(\"xFormers is available (SwiGLU)\")\n",
      "/home/nikola.jovisic.ivi/nj/mammo-filter/experiments/../model/layers/attention.py:27: UserWarning: xFormers is available (Attention)\n",
      "  warnings.warn(\"xFormers is available (Attention)\")\n",
      "/home/nikola.jovisic.ivi/nj/mammo-filter/experiments/../model/layers/block.py:33: UserWarning: xFormers is available (Block)\n",
      "  warnings.warn(\"xFormers is available (Block)\")\n"
     ]
    }
   ],
   "source": [
    "import sys \n",
    "\n",
    "sys.path.append('..')\n",
    "\n",
    "from datasets_shim import *\n",
    "from batched_dataloader import get_batched_dataloader, BatchEnum\n",
    "from embedding_inference import EmbeddingInference"
   ]
  },
  {
   "cell_type": "code",
   "execution_count": null,
   "id": "2d5e5987",
   "metadata": {},
   "outputs": [
    {
     "name": "stderr",
     "output_type": "stream",
     "text": [
      "/home/nikola.jovisic.ivi/nj/mammo_datasets/mammo_dataset.py:177: DtypeWarning: Columns (26,27) have mixed types. Specify dtype option on import or set low_memory=False.\n",
      "  df = pd.read_csv(self.csv_path)\n",
      "/home/nikola.jovisic.ivi/nj/mammo_datasets/utils/aggregations.py:6: SettingWithCopyWarning: \n",
      "A value is trying to be set on a copy of a slice from a DataFrame.\n",
      "Try using .loc[row_indexer,col_indexer] = value instead\n",
      "\n",
      "See the caveats in the documentation: https://pandas.pydata.org/pandas-docs/stable/user_guide/indexing.html#returning-a-view-versus-a-copy\n",
      "  df['window'] = list(zip(df['window_a'], df['window_b']))\n"
     ]
    },
    {
     "name": "stdout",
     "output_type": "stream",
     "text": [
      "Dataset embed initialized with 65113 rows.\n"
     ]
    },
    {
     "name": "stderr",
     "output_type": "stream",
     "text": [
      "18535it [1:50:24,  4.71it/s]"
     ]
    }
   ],
   "source": [
    "from itertools import islice\n",
    "from icecream import ic\n",
    "    \n",
    "args = {'return_mode': ReturnMode.BREAST_TILES_LABEL, 'convert_to': ConvertTo.RGB_TENSOR_IMGNET_NORM, 'tile_size': 518, 'resize': 518, 'final_resize': 518}\n",
    "\n",
    "# EmbeddingInference(MammoDataset(DatasetEnum.CSAW, labels=[0, 1, 2], **args), run_id='csaw').run_images()\n",
    "# EmbeddingInference(MammoDataset(DatasetEnum.RSNA, labels=[0, 1, 2, 3], read_window=True, **args), run_id='rsna').run_images()\n",
    "EmbeddingInference(MammoDataset(DatasetEnum.EMBED, labels=[1, 2, 3, 4, 5], **args), run_id='embed').run_images()\n",
    "EmbeddingInference(MammoDataset(DatasetEnum.VINDR, read_window=True, **args), run_id='vindr').run_images()"
   ]
  }
 ],
 "metadata": {
  "kernelspec": {
   "display_name": "Python 3 (ipykernel)",
   "language": "python",
   "name": "python3"
  },
  "language_info": {
   "codemirror_mode": {
    "name": "ipython",
    "version": 3
   },
   "file_extension": ".py",
   "mimetype": "text/x-python",
   "name": "python",
   "nbconvert_exporter": "python",
   "pygments_lexer": "ipython3",
   "version": "3.10.12"
  }
 },
 "nbformat": 4,
 "nbformat_minor": 5
}
